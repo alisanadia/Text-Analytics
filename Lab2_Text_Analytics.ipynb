{
 "cells": [
  {
   "cell_type": "markdown",
   "id": "5fc9ed0b-592f-4d72-8c1c-3210b4e285af",
   "metadata": {},
   "source": []
  },
  {
   "cell_type": "markdown",
   "id": "5f7da4fa-3973-44db-b1e4-74ee5e257e33",
   "metadata": {},
   "source": [
    "**Regular Expressions - Metacharachters**"
   ]
  },
  {
   "cell_type": "markdown",
   "id": "3af13a0a-090f-461b-aabe-99d006453a6f",
   "metadata": {},
   "source": []
  },
  {
   "cell_type": "code",
   "execution_count": 30,
   "id": "cf91c26f-39f5-4767-ac22-f5d6759f67fc",
   "metadata": {},
   "outputs": [],
   "source": [
    "#importing regular expression library \n",
    "import re \n",
    "# re = regular expression \n",
    "\n"
   ]
  },
  {
   "cell_type": "markdown",
   "id": "f4debc46-b447-49f7-bc93-04b8be6250b7",
   "metadata": {},
   "source": [
    "**a) re.match()**  "
   ]
  },
  {
   "cell_type": "code",
   "execution_count": 31,
   "id": "1b9b5368-a89e-49f1-b11d-7c08e8714c83",
   "metadata": {},
   "outputs": [
    {
     "name": "stdout",
     "output_type": "stream",
     "text": [
      "<re.Match object; span=(0, 1), match='I'>\n"
     ]
    }
   ],
   "source": [
    "\n",
    "\n",
    "#using re.match \n",
    "#to find the first occurrence of the letter 'I' in the string \n",
    " \n",
    "sentence1 = re.match (r'I', 'I am learning text analytics') \n",
    "print (sentence1) \n"
   ]
  },
  {
   "cell_type": "code",
   "execution_count": 4,
   "id": "f0254b8e-3b6c-46f1-9ae7-3fd47f1ebe05",
   "metadata": {},
   "outputs": [
    {
     "name": "stdout",
     "output_type": "stream",
     "text": [
      "None\n"
     ]
    }
   ],
   "source": [
    "#using re.match \n",
    "#to find the first occurrence of the letter 'v' in the string \n",
    " \n",
    "sentence2 = re.match (r'v', 'I am learning text analytics') \n",
    "print (sentence2) \n"
   ]
  },
  {
   "cell_type": "code",
   "execution_count": 5,
   "id": "da1d2c7f-f65f-467e-9148-26305c458dad",
   "metadata": {},
   "outputs": [
    {
     "name": "stdout",
     "output_type": "stream",
     "text": [
      "None\n"
     ]
    }
   ],
   "source": [
    "#using re.match \n",
    "#to find the first occurrence of the letter 'am' in the string \n",
    " \n",
    "sentence3 = re.match (r'am', 'I am learning text analytics') \n",
    "print (sentence3) \n"
   ]
  },
  {
   "cell_type": "markdown",
   "id": "b2e26f5f-cf9d-4803-9524-92429c0ba11e",
   "metadata": {},
   "source": [
    "**b) re.search()**  "
   ]
  },
  {
   "cell_type": "code",
   "execution_count": 7,
   "id": "564e631f-6777-4aa0-b57f-c4f9a5a73e50",
   "metadata": {},
   "outputs": [
    {
     "name": "stdout",
     "output_type": "stream",
     "text": [
      "<re.Match object; span=(2, 4), match='am'>\n"
     ]
    }
   ],
   "source": [
    "sentence4 = re.search(r'am', 'I am learning text analytics') \n",
    "print (sentence4)  "
   ]
  },
  {
   "cell_type": "code",
   "execution_count": 8,
   "id": "6d76a02c-da73-4e43-9716-632c87f44c99",
   "metadata": {},
   "outputs": [
    {
     "name": "stdout",
     "output_type": "stream",
     "text": [
      "<re.Match object; span=(2, 4), match='am'>\n"
     ]
    }
   ],
   "source": [
    "sentence5 = re.search(r'am', 'I am learning text analytics and am enjoying it')  \n",
    "print (sentence5)  \n",
    "# cannot find second am, only can find the first"
   ]
  },
  {
   "cell_type": "markdown",
   "id": "2a6ebbc0-4232-4ec6-985f-1c301e96fab7",
   "metadata": {},
   "source": [
    "**c) re.findall()**  "
   ]
  },
  {
   "cell_type": "code",
   "execution_count": 9,
   "id": "9f5b59bd-6f7f-4b2a-90c3-b5f287157c5d",
   "metadata": {},
   "outputs": [
    {
     "name": "stdout",
     "output_type": "stream",
     "text": [
      "['am', 'am']\n"
     ]
    }
   ],
   "source": [
    "sentence6 = re.findall(r'am', 'I am learning text analytics and am enjoying it')  \n",
    "print (sentence6)  \n",
    "\n",
    "# find all am in the string"
   ]
  },
  {
   "cell_type": "markdown",
   "id": "b4778aa8-6ef4-4fd8-8d3c-dbbd79e5afc9",
   "metadata": {},
   "source": [
    "**d) re.split**"
   ]
  },
  {
   "cell_type": "code",
   "execution_count": 10,
   "id": "f253bb56-d715-4e72-934f-44a1fe7dff24",
   "metadata": {},
   "outputs": [
    {
     "name": "stdout",
     "output_type": "stream",
     "text": [
      "['I am learning text analytics ', ' am enjoying it']\n"
     ]
    }
   ],
   "source": [
    "sentence7 = re.split(r'and', 'I am learning text analytics and am enjoying it')  \n",
    "print (sentence7)  \n"
   ]
  },
  {
   "cell_type": "code",
   "execution_count": 11,
   "id": "5941d1fb-d67e-48ce-91b8-2d1b97857220",
   "metadata": {},
   "outputs": [
    {
     "name": "stdout",
     "output_type": "stream",
     "text": [
      "['I ', ' learning text analytics and ', ' enjoying it']\n"
     ]
    }
   ],
   "source": [
    "sentence8 = re.split(r'am', 'I am learning text analytics and am enjoying it')  \n",
    "print (sentence8)  \n"
   ]
  },
  {
   "cell_type": "code",
   "execution_count": 12,
   "id": "81e926c0-8779-4fe6-bf10-d745b0655a9c",
   "metadata": {},
   "outputs": [
    {
     "name": "stdout",
     "output_type": "stream",
     "text": [
      "['I ', ' learning text analytics and am enjoying it']\n"
     ]
    }
   ],
   "source": [
    "sentence9 = re.split(r'am', 'I am learning text analytics and am enjoying it', maxsplit=1) \n",
    "print (sentence9)  \n",
    "\n",
    "# maxsplit acts as a limiter, limited to 1"
   ]
  },
  {
   "cell_type": "code",
   "execution_count": 13,
   "id": "b80c2bb9-20e0-45b8-a965-d20a4f43df5b",
   "metadata": {},
   "outputs": [
    {
     "name": "stdout",
     "output_type": "stream",
     "text": [
      "['I ', ' learning text analytics and ', ' enjoying it']\n"
     ]
    }
   ],
   "source": [
    "sentence9 = re.split(r'am', 'I am learning text analytics and am enjoying it', maxsplit=2) \n",
    "print (sentence9)  \n",
    "\n",
    "# limited to 2"
   ]
  },
  {
   "cell_type": "code",
   "execution_count": 14,
   "id": "6c1830d1-7ce2-426b-9364-83caf694085b",
   "metadata": {},
   "outputs": [
    {
     "name": "stdout",
     "output_type": "stream",
     "text": [
      "['I ', ' learning text analytics, I ', ' enjoying it and I ', ' going to ace it']\n"
     ]
    }
   ],
   "source": [
    "sentence10 = re.split(r'am', 'I am learning text analytics, I am enjoying it and I am going to ace it', maxsplit=3) \n",
    "print (sentence10)  \n",
    "\n",
    "# limited to 3"
   ]
  },
  {
   "cell_type": "markdown",
   "id": "d1de6dcd-3071-47b3-9850-7da7a68c3bbb",
   "metadata": {},
   "source": [
    "**e) re.sub** "
   ]
  },
  {
   "cell_type": "code",
   "execution_count": 15,
   "id": "92980fbe-ad2d-4eac-9b5f-81604dcd7bb4",
   "metadata": {},
   "outputs": [
    {
     "name": "stdout",
     "output_type": "stream",
     "text": [
      "we like text analytics and we enjoy learning it\n"
     ]
    }
   ],
   "source": [
    "sentence11 = re.sub(r'I', 'we', 'I like text analytics and I enjoy learning it') \n",
    "print (sentence11)  \n",
    "\n",
    "# substituting words\n"
   ]
  },
  {
   "cell_type": "markdown",
   "id": "aaf3e36d-1334-4396-9bf5-8effa7d895b7",
   "metadata": {},
   "source": [
    "**Using metacharacters**  \r\n",
    "**a) Metacharacter .**  "
   ]
  },
  {
   "cell_type": "code",
   "execution_count": 16,
   "id": "3df0b347-16e0-4498-b8b3-de89a9ada344",
   "metadata": {},
   "outputs": [
    {
     "name": "stdout",
     "output_type": "stream",
     "text": [
      "['I', ' ', 'a', 'm', ' ', 'l', 'e', 'a', 'r', 'n', 'i', 'n', 'g', ' ', 't', 'e', 'x', 't', ' ', 'a', 'n', 'a', 'l', 'y', 't', 'i', 'c', 's']\n"
     ]
    }
   ],
   "source": [
    "sentence1 = re.findall (r'.', 'I am learning text analytics') \n",
    "print (sentence1) \n",
    " \n",
    "# Each letter is selected including spaces \n"
   ]
  },
  {
   "cell_type": "markdown",
   "id": "e516bbae-9b17-48ea-bc00-99ea7ab7f4d3",
   "metadata": {},
   "source": [
    "**b) Metacharacter \\w**  "
   ]
  },
  {
   "cell_type": "code",
   "execution_count": 18,
   "id": "00886869-7556-4b26-a813-5d19fa29ae66",
   "metadata": {},
   "outputs": [
    {
     "name": "stdout",
     "output_type": "stream",
     "text": [
      "['I', 'a', 'm', 'l', 'e', 'a', 'r', 'n', 'i', 'n', 'g', 't', 'e', 'x', 't', 'a', 'n', 'a', 'l', 'y', 't', 'i', 'c', 's']\n"
     ]
    }
   ],
   "source": [
    "sentence2 = re.findall (r'\\w', 'I am learning text analytics') \n",
    "print (sentence2) \n",
    " \n",
    "# Each letter is selected excluding spaces \n"
   ]
  },
  {
   "cell_type": "markdown",
   "id": "753164be-8681-4c60-9c77-85922e8c1a55",
   "metadata": {},
   "source": [
    "**c) Metacharacter \\w***  "
   ]
  },
  {
   "cell_type": "code",
   "execution_count": 19,
   "id": "35c48287-1ee8-414a-8890-c49ae0e325d3",
   "metadata": {},
   "outputs": [
    {
     "name": "stdout",
     "output_type": "stream",
     "text": [
      "['I', '', 'am', '', 'learning', '', 'text', '', 'analytics', '']\n"
     ]
    }
   ],
   "source": [
    "sentence3 = re.findall (r'\\w*', 'I am learning text analytics') \n",
    "print (sentence3) \n",
    " \n",
    "# Each word is selected including spaces \n"
   ]
  },
  {
   "cell_type": "markdown",
   "id": "869074a0-61f5-49b3-b5e2-e6cac3e0748d",
   "metadata": {},
   "source": [
    "**d) Metacharacter \\w+**  "
   ]
  },
  {
   "cell_type": "code",
   "execution_count": 20,
   "id": "15fc0ee7-65bd-48ad-9048-aabb01cf4be6",
   "metadata": {},
   "outputs": [
    {
     "name": "stdout",
     "output_type": "stream",
     "text": [
      "['I', 'am', 'learning', 'text', 'analytics']\n"
     ]
    }
   ],
   "source": [
    "sentence4 = re.findall (r'\\w+', 'I am learning text analytics') \n",
    "print (sentence4) \n",
    " \n",
    "# Each word is selected excluding spaces \n",
    "\n"
   ]
  },
  {
   "cell_type": "markdown",
   "id": "a7206673-4b96-4cdb-aad6-eda98f8bbf92",
   "metadata": {},
   "source": [
    "**e) Metacharacter ^\\w+**  "
   ]
  },
  {
   "cell_type": "code",
   "execution_count": 21,
   "id": "4c51c84e-4873-454d-83e3-b79d54e80ad6",
   "metadata": {},
   "outputs": [
    {
     "name": "stdout",
     "output_type": "stream",
     "text": [
      "['I']\n"
     ]
    }
   ],
   "source": [
    "sentence5 = re.findall (r'^\\w+', 'I am learning text analytics') \n",
    "print (sentence5) \n",
    " \n",
    "# First word is selected  \n",
    "# ^ means not"
   ]
  },
  {
   "cell_type": "markdown",
   "id": "cf5fe4b5-da71-4393-85da-e0991195e44a",
   "metadata": {},
   "source": [
    "**f) Metacharacter \\w+$**  "
   ]
  },
  {
   "cell_type": "code",
   "execution_count": 22,
   "id": "fc2d7a5a-e147-4e02-891a-86ee07f207e2",
   "metadata": {},
   "outputs": [
    {
     "name": "stdout",
     "output_type": "stream",
     "text": [
      "['analytics']\n"
     ]
    }
   ],
   "source": [
    "sentence6 = re.findall (r'\\w+$', 'I am learning text analytics') \n",
    "print (sentence6) \n",
    " \n",
    "# Last word is selected  \n"
   ]
  },
  {
   "cell_type": "markdown",
   "id": "a95c167f-deb8-46b5-90ed-53074b93e2d6",
   "metadata": {},
   "source": [
    "**g) Metacharacter \\w\\w**  "
   ]
  },
  {
   "cell_type": "code",
   "execution_count": 23,
   "id": "d83f9062-6da2-4cac-a084-bd5b7862a59e",
   "metadata": {},
   "outputs": [
    {
     "name": "stdout",
     "output_type": "stream",
     "text": [
      "['am', 'le', 'ar', 'ni', 'ng', 'te', 'xt', 'an', 'al', 'yt', 'ic']\n"
     ]
    }
   ],
   "source": [
    "sentence7 = re.findall(r'\\w\\w', 'I am learning text analytics')\n",
    "print(sentence7)\n",
    "# Find two consecutive characters"
   ]
  },
  {
   "cell_type": "markdown",
   "id": "d9e757be-dbfe-46f1-8525-336589e0a1a5",
   "metadata": {},
   "source": [
    "**h) Metacharacter \\b\\w\\w**  "
   ]
  },
  {
   "cell_type": "code",
   "execution_count": 24,
   "id": "27a4a54e-7d59-43fd-a3c5-1a6f00e7334e",
   "metadata": {},
   "outputs": [
    {
     "name": "stdout",
     "output_type": "stream",
     "text": [
      "['am', 'le', 'te', 'an']\n"
     ]
    }
   ],
   "source": [
    "sentence8 = re.findall(r'\\b\\w\\w', 'I am learning text analytics')\n",
    "print(sentence8)\n",
    "# Find two consecutive characters at word boundaries"
   ]
  },
  {
   "cell_type": "markdown",
   "id": "d821c80c-c5f1-49cb-b28b-99d6e56dd336",
   "metadata": {},
   "source": [
    "**Extracting the domain type of email address**"
   ]
  },
  {
   "cell_type": "code",
   "execution_count": 25,
   "id": "24feffba-d1c9-4796-ba13-314311125a92",
   "metadata": {},
   "outputs": [
    {
     "name": "stdout",
     "output_type": "stream",
     "text": [
      "['@text', '@analytics', '@textanalytics']\n"
     ]
    }
   ],
   "source": [
    "# Extract the domain names (excluding top-level domain) from email addresses\n",
    "sentence9 = re.findall(r'@\\w+', 'user@text.com.my, user@analytics.gov.my, user@textanalytics.edu.my')\n",
    "print(sentence9)\n"
   ]
  },
  {
   "cell_type": "code",
   "execution_count": null,
   "id": "5f764b04-57b3-40dc-be41-989255593a93",
   "metadata": {},
   "outputs": [],
   "source": []
  },
  {
   "cell_type": "code",
   "execution_count": 26,
   "id": "4c8b90ef-e3f5-4070-8dcf-ac158295368a",
   "metadata": {},
   "outputs": [
    {
     "name": "stdout",
     "output_type": "stream",
     "text": [
      "['@text.com', '@analytics.gov', '@textanalytics.edu']\n"
     ]
    }
   ],
   "source": [
    "# Extract the full domain names (including top-level domain) from email addresses\n",
    "sentence10 = re.findall(r'@\\w+.\\w+', 'user@text.com.my, user@analytics.gov.my, user@textanalytics.edu.my')\n",
    "print(sentence10)\n"
   ]
  },
  {
   "cell_type": "code",
   "execution_count": null,
   "id": "07743299-6d92-4a8f-91bc-5db854c0e27e",
   "metadata": {},
   "outputs": [],
   "source": []
  },
  {
   "cell_type": "code",
   "execution_count": 27,
   "id": "e5638ca4-6aeb-4db5-9b85-40e80c9645b6",
   "metadata": {},
   "outputs": [
    {
     "name": "stdout",
     "output_type": "stream",
     "text": [
      "['@text.com.my', '@analytics.gov.my', '@textanalytics.edu.my']\n"
     ]
    }
   ],
   "source": [
    "# Extract the full domain names (including top-level domain) from email addresses\n",
    "sentence11 = re.findall(r'@\\w+.\\w+.\\w+', 'user@text.com.my, user@analytics.gov.my, user@textanalytics.edu.my')\n",
    "print(sentence11)\n"
   ]
  },
  {
   "cell_type": "code",
   "execution_count": null,
   "id": "d4f6959d-e4d6-463d-b9a9-b0bee31ee4ba",
   "metadata": {},
   "outputs": [],
   "source": []
  },
  {
   "cell_type": "code",
   "execution_count": 28,
   "id": "850ae515-85ee-41bc-9eba-2c52963ff642",
   "metadata": {},
   "outputs": [
    {
     "name": "stdout",
     "output_type": "stream",
     "text": [
      "['com.my', 'gov.my']\n"
     ]
    }
   ],
   "source": [
    "# Extract the type of domain from email addresses\n",
    "sentence12 = re.findall(r'@\\w+\\.(\\w+.\\w+)', 'user@text.com.my, user@analytics.gov.my, u')\n",
    "print(sentence12)\n"
   ]
  },
  {
   "cell_type": "code",
   "execution_count": null,
   "id": "ab5a1404-73c6-46ee-a79c-2168fe45edab",
   "metadata": {},
   "outputs": [],
   "source": []
  },
  {
   "cell_type": "markdown",
   "id": "8bf8942c-b59f-4425-8cf0-191dcba5a01b",
   "metadata": {},
   "source": [
    "**Extracting date**\n"
   ]
  },
  {
   "cell_type": "code",
   "execution_count": 33,
   "id": "84cd43df-54aa-4f1e-a22d-7078183a8ab5",
   "metadata": {},
   "outputs": [
    {
     "name": "stdout",
     "output_type": "stream",
     "text": [
      "['15-05-20', '20-08-20']\n"
     ]
    }
   ],
   "source": [
    "# Extract dates in the format dd-mm-yy\n",
    "sentence13 = re.findall(r'\\d{2}-\\d{2}-\\d{2}', 'Ahmad BIT(IS) 15-05-2001, Johnny BCS(SE) 20-08-2000')\n",
    "print(sentence13) "
   ]
  },
  {
   "cell_type": "code",
   "execution_count": 34,
   "id": "480866f1-4e17-46e1-9a03-ffab9b9ccf9b",
   "metadata": {},
   "outputs": [
    {
     "name": "stdout",
     "output_type": "stream",
     "text": [
      "['15-05-2001', '20-08-2000']\n"
     ]
    }
   ],
   "source": [
    "# Extract dates in the format dd-mm-yyyy\n",
    "sentence14 = re.findall(r'\\d{2}-\\d{2}-\\d{4}', 'Ahmad BIT(IS) 15-05-2001, Johnny BCS(SE) 20-08-2000')\n",
    "print(sentence14) "
   ]
  },
  {
   "cell_type": "code",
   "execution_count": 66,
   "id": "917452c8-49b5-4c03-8f39-c7a0ceb44bb2",
   "metadata": {},
   "outputs": [
    {
     "name": "stdout",
     "output_type": "stream",
     "text": [
      "['2001', '2000']\n"
     ]
    }
   ],
   "source": [
    "# Extract only the years\n",
    "sentence15 = re.findall(r'\\d{2}-\\d{2}-(\\d{4})', 'Ahmad BIT(IS) 15-05-2001, Johnny BCS(SE) 20-08-2000')\n",
    "print(sentence15)"
   ]
  },
  {
   "cell_type": "code",
   "execution_count": null,
   "id": "faa530ab-34e9-4dd7-a6fe-4702e6ab2e15",
   "metadata": {},
   "outputs": [],
   "source": [
    "from datetime import datetime\n",
    "\n",
    "# Extract dates in the format dd-mm-yyyy\n",
    "sentence16 = re.findall(r'\\d{2}-\\d{2}-\\d{4}', 'Ahmad BIT(IS) 15-05-2001, Johnny BCS(SE) 20-08-2000')\n",
    "formatted_dates = [datetime.strptime(match, %d-%m-%y).strftime\n",
    "print(sentence16) "
   ]
  },
  {
   "cell_type": "markdown",
   "id": "c1aeaa83-331c-4a78-8af2-de47413f573a",
   "metadata": {},
   "source": [
    "**Selecting words that start with vowels in a string**\n",
    "\n"
   ]
  },
  {
   "cell_type": "code",
   "execution_count": 36,
   "id": "2f035bc9-b739-464f-af80-9e54788cd960",
   "metadata": {},
   "outputs": [
    {
     "name": "stdout",
     "output_type": "stream",
     "text": [
      "['ave', 'eight', 'ory', 'ooks', 'often', 'ead', 'em', 'in', 'afternoon']\n"
     ]
    }
   ],
   "source": [
    "sentence16 = re.findall(r'[aeiouAEIOU]\\w+', 'I have eight story books. I often read them in afternoon')\n",
    "print(sentence16)  # Output: "
   ]
  },
  {
   "cell_type": "code",
   "execution_count": null,
   "id": "ca611114-c516-43db-9211-6ff040d77e3f",
   "metadata": {},
   "outputs": [],
   "source": []
  },
  {
   "cell_type": "code",
   "execution_count": 54,
   "id": "58d7b1f9-b566-4dcd-8951-ceece22399e0",
   "metadata": {},
   "outputs": [
    {
     "name": "stdout",
     "output_type": "stream",
     "text": [
      "['eight', 'often', 'in', 'afternoon']\n"
     ]
    }
   ],
   "source": [
    "sentence17 = re.findall(r'\\b[aeiouAEIOU]\\w+', 'I have eight story books. I often read them in afternoon')\n",
    "print(sentence17) "
   ]
  },
  {
   "cell_type": "code",
   "execution_count": null,
   "id": "2d048de3-104f-441d-a377-995a94103191",
   "metadata": {},
   "outputs": [],
   "source": []
  },
  {
   "cell_type": "code",
   "execution_count": 38,
   "id": "6cfc7e49-7e6d-47c6-8ffe-bfb370d63846",
   "metadata": {},
   "outputs": [
    {
     "name": "stdout",
     "output_type": "stream",
     "text": [
      "['have', 'story', 'books', 'read', 'them']\n"
     ]
    }
   ],
   "source": [
    "sentence18 = re.findall(r'\\b[^aeiouAEIOU\\s]\\w+', 'I have eight story books. I often read them in afternoon')\n",
    "print(sentence18) "
   ]
  },
  {
   "cell_type": "code",
   "execution_count": null,
   "id": "199b5353-e5bc-4165-96e1-f048d1baf0a1",
   "metadata": {},
   "outputs": [],
   "source": []
  },
  {
   "cell_type": "markdown",
   "id": "ca3c62a5-4a51-4a13-9c51-99403377ba2f",
   "metadata": {},
   "source": [
    "**Splitting a string with multiple delimiters**"
   ]
  },
  {
   "cell_type": "code",
   "execution_count": 39,
   "id": "2054aa6d-6e90-419c-b47a-cb5ae70b2f18",
   "metadata": {},
   "outputs": [
    {
     "name": "stdout",
     "output_type": "stream",
     "text": [
      "['I have many story books', ' colouring books', ' I often read them in the afternoon.']\n"
     ]
    }
   ],
   "source": [
    "sentence19 = re.split(r'[;,]', 'I have many story books, colouring books; I often read them in the afternoon.')\n",
    "print(sentence19)"
   ]
  },
  {
   "cell_type": "code",
   "execution_count": null,
   "id": "8f2353ed-4800-49c9-aa1f-f034e90afd62",
   "metadata": {},
   "outputs": [],
   "source": []
  },
  {
   "cell_type": "code",
   "execution_count": 40,
   "id": "3087d870-fcf3-4c97-a040-6959fd884b09",
   "metadata": {},
   "outputs": [
    {
     "name": "stdout",
     "output_type": "stream",
     "text": [
      "['I', 'have', 'many', 'story', 'books', '', 'colouring', 'books', '', 'I', 'often', 'read', 'them', 'in', 'the', 'afternoon.']\n"
     ]
    }
   ],
   "source": [
    "sentence20 = re.split(r'[;,\\s]', 'I have many story books, colouring books; I often read them in the afternoon.')\n",
    "print(sentence20)  "
   ]
  },
  {
   "cell_type": "markdown",
   "id": "8c894b2a-5e90-4a2f-8d77-57f805e3848e",
   "metadata": {},
   "source": [
    "**Substituting delimiters**"
   ]
  },
  {
   "cell_type": "code",
   "execution_count": 41,
   "id": "7116dc57-d24b-419d-bdea-3fb850e2dc6f",
   "metadata": {},
   "outputs": [
    {
     "name": "stdout",
     "output_type": "stream",
     "text": [
      "I have many story books. colouring books. I often read them in the afternoon.\n"
     ]
    }
   ],
   "source": [
    "sentence21 = re.sub(r'[;,]', '.', 'I have many story books, colouring books; I often read them in the afternoon.')\n",
    "print(sentence21)  # Output: I have many story books. I have many colouring books. I often read them in the afternoon.\n"
   ]
  },
  {
   "cell_type": "code",
   "execution_count": null,
   "id": "180ebf09-e44b-42ec-ba5a-6b5205d2e0f1",
   "metadata": {},
   "outputs": [],
   "source": []
  },
  {
   "cell_type": "code",
   "execution_count": null,
   "id": "dbef15b0-a231-4b72-bf1b-7a0555f825e8",
   "metadata": {},
   "outputs": [],
   "source": []
  },
  {
   "cell_type": "code",
   "execution_count": null,
   "id": "40f24c6c-4dd9-48b6-82fe-35f928433214",
   "metadata": {},
   "outputs": [],
   "source": []
  },
  {
   "cell_type": "code",
   "execution_count": 46,
   "id": "0555c47a-a6ec-48fe-b511-e70121f3ae87",
   "metadata": {},
   "outputs": [],
   "source": []
  },
  {
   "cell_type": "code",
   "execution_count": 47,
   "id": "92056fe7-bfde-445a-9804-ae21317b00b6",
   "metadata": {},
   "outputs": [],
   "source": [
    "\n"
   ]
  },
  {
   "cell_type": "code",
   "execution_count": 48,
   "id": "de91aeee-61dd-4f3c-829d-047898100efe",
   "metadata": {},
   "outputs": [],
   "source": []
  },
  {
   "cell_type": "code",
   "execution_count": 49,
   "id": "4b799369-475a-4189-ac75-3dc57343a40f",
   "metadata": {},
   "outputs": [
    {
     "data": {
      "text/plain": [
       "2"
      ]
     },
     "execution_count": 49,
     "metadata": {},
     "output_type": "execute_result"
    }
   ],
   "source": [
    "\n"
   ]
  },
  {
   "cell_type": "code",
   "execution_count": 50,
   "id": "b216c91c-a21d-4a10-b650-b8acdda49ddc",
   "metadata": {},
   "outputs": [],
   "source": []
  },
  {
   "cell_type": "code",
   "execution_count": 52,
   "id": "dc7ad947-9b75-4929-aca0-a62ca9257dae",
   "metadata": {},
   "outputs": [],
   "source": []
  },
  {
   "cell_type": "code",
   "execution_count": 53,
   "id": "653828dc-77a1-42cc-9964-91612115292b",
   "metadata": {},
   "outputs": [
    {
     "data": {
      "text/plain": [
       "'AUTHORS:  \\nAmy Baker, Finance Chair, x345, abaker@ourcompany.com  \\nChris Donaldson, Accounting Dir., x621, cdonaldson@ourcompany.com  \\nErin Freeman, Sr. VP, x879, efreeman@ourcompany.com  '"
      ]
     },
     "execution_count": 53,
     "metadata": {},
     "output_type": "execute_result"
    }
   ],
   "source": []
  },
  {
   "cell_type": "code",
   "execution_count": null,
   "id": "6a3919af-1b60-4753-a403-069b4b47cbca",
   "metadata": {},
   "outputs": [],
   "source": []
  }
 ],
 "metadata": {
  "kernelspec": {
   "display_name": "Python 3 (ipykernel)",
   "language": "python",
   "name": "python3"
  },
  "language_info": {
   "codemirror_mode": {
    "name": "ipython",
    "version": 3
   },
   "file_extension": ".py",
   "mimetype": "text/x-python",
   "name": "python",
   "nbconvert_exporter": "python",
   "pygments_lexer": "ipython3",
   "version": "3.9.13"
  }
 },
 "nbformat": 4,
 "nbformat_minor": 5
}
