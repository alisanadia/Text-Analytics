{
 "cells": [
  {
   "cell_type": "code",
   "execution_count": 1,
   "id": "b5dd9524-177a-4742-94df-c7aa69a0da38",
   "metadata": {},
   "outputs": [],
   "source": [
    "my_file = open('test.txt')"
   ]
  },
  {
   "cell_type": "code",
   "execution_count": null,
   "id": "a6d0330a-caaf-4074-8432-30902d55246e",
   "metadata": {},
   "outputs": [],
   "source": []
  },
  {
   "cell_type": "code",
   "execution_count": 2,
   "id": "2cedbb51-d47c-4ff3-95d8-18a5fd9ce6f7",
   "metadata": {},
   "outputs": [
    {
     "data": {
      "text/plain": [
       "'\\nThis line is being appended to test.txt\\nAnd another line here.'"
      ]
     },
     "execution_count": 2,
     "metadata": {},
     "output_type": "execute_result"
    }
   ],
   "source": [
    "my_file.read()"
   ]
  },
  {
   "cell_type": "code",
   "execution_count": 3,
   "id": "625e9d6e-7700-4f7e-a6aa-c42b7310c508",
   "metadata": {},
   "outputs": [
    {
     "data": {
      "text/plain": [
       "0"
      ]
     },
     "execution_count": 3,
     "metadata": {},
     "output_type": "execute_result"
    }
   ],
   "source": [
    "my_file.seek(0)"
   ]
  },
  {
   "cell_type": "code",
   "execution_count": 4,
   "id": "c2cd0cf0-62de-401c-ba56-538d0dba7b17",
   "metadata": {},
   "outputs": [
    {
     "data": {
      "text/plain": [
       "'\\nThis line is being appended to test.txt\\nAnd another line here.'"
      ]
     },
     "execution_count": 4,
     "metadata": {},
     "output_type": "execute_result"
    }
   ],
   "source": [
    "my_file.read()"
   ]
  },
  {
   "cell_type": "code",
   "execution_count": 5,
   "id": "90441546-3a2b-4072-ada7-328cc3785da6",
   "metadata": {},
   "outputs": [
    {
     "data": {
      "text/plain": [
       "['\\n', 'This line is being appended to test.txt\\n', 'And another line here.']"
      ]
     },
     "execution_count": 5,
     "metadata": {},
     "output_type": "execute_result"
    }
   ],
   "source": [
    "my_file.seek(0)\n",
    "my_file.readlines()"
   ]
  },
  {
   "cell_type": "code",
   "execution_count": 6,
   "id": "038933ee-87a7-4f33-aa98-4963f3ac18c3",
   "metadata": {},
   "outputs": [],
   "source": [
    "my_file.close()"
   ]
  },
  {
   "cell_type": "code",
   "execution_count": 7,
   "id": "84a1cc5d-8c0b-414f-8969-d08aa152f2c1",
   "metadata": {},
   "outputs": [],
   "source": [
    "my_file = open('test.txt','w+')"
   ]
  },
  {
   "cell_type": "code",
   "execution_count": null,
   "id": "b6c9b97f-780c-4d56-8d63-185524e2db06",
   "metadata": {},
   "outputs": [],
   "source": [
    "my_file.write('This is a new first line')\n"
   ]
  },
  {
   "cell_type": "code",
   "execution_count": 8,
   "id": "ad36f46c-b198-470d-a206-50c3c05eeeea",
   "metadata": {},
   "outputs": [
    {
     "data": {
      "text/plain": [
       "''"
      ]
     },
     "execution_count": 8,
     "metadata": {},
     "output_type": "execute_result"
    }
   ],
   "source": [
    "my_file.seek(0)\n",
    "my_file.read()"
   ]
  },
  {
   "cell_type": "code",
   "execution_count": 9,
   "id": "6fe6459d-9ccd-49d7-b5a0-02aeefd9656d",
   "metadata": {},
   "outputs": [],
   "source": [
    "my_file.close()"
   ]
  },
  {
   "cell_type": "code",
   "execution_count": 10,
   "id": "5356fb74-99f0-4e4e-8262-d6b8a6a7ba4d",
   "metadata": {},
   "outputs": [
    {
     "data": {
      "text/plain": [
       "23"
      ]
     },
     "execution_count": 10,
     "metadata": {},
     "output_type": "execute_result"
    }
   ],
   "source": [
    "my_file = open('test.txt','a+')\n",
    "my_file.write('\\nThis line is being appended to test.txt')\n",
    "my_file.write('\\nAnd another line here.')"
   ]
  },
  {
   "cell_type": "code",
   "execution_count": 11,
   "id": "18860351-8d85-4d18-9bd5-d765821ee27e",
   "metadata": {},
   "outputs": [
    {
     "name": "stdout",
     "output_type": "stream",
     "text": [
      "\n",
      "This line is being appended to test.txt\n",
      "And another line here.\n"
     ]
    }
   ],
   "source": [
    "my_file.seek(0)\n",
    "print(my_file.read())"
   ]
  },
  {
   "cell_type": "code",
   "execution_count": 12,
   "id": "b8e5596e-8b6f-4dd8-aaae-08160f7519ee",
   "metadata": {},
   "outputs": [],
   "source": [
    "my_file.close()"
   ]
  },
  {
   "cell_type": "code",
   "execution_count": 13,
   "id": "692f7546-37c5-47d0-ae9d-b52f87119789",
   "metadata": {},
   "outputs": [
    {
     "name": "stdout",
     "output_type": "stream",
     "text": [
      "\n",
      "This line is being appended to test.txt\n",
      "And another line here."
     ]
    }
   ],
   "source": [
    "with open('test.txt','r') as txt:\n",
    " for line in txt:\n",
    "   print(line, end='')"
   ]
  },
  {
   "cell_type": "code",
   "execution_count": 14,
   "id": "1f3849ac-75d7-4853-b6c9-a450f702a92f",
   "metadata": {},
   "outputs": [
    {
     "name": "stdout",
     "output_type": "stream",
     "text": [
      "Comments extracted and saved to comments.txt\n"
     ]
    }
   ],
   "source": [
    "import csv\n",
    "# Define the CSV file name\n",
    "csv_file = 'sample_data.csv'\n",
    "# Define the output text file name\n",
    "output_file = 'comments.txt'\n",
    "# Open the CSV file for reading\n",
    "with open(csv_file, 'r', newline='') as csvfile:\n",
    " # Create a CSV reader object\n",
    " reader = csv.DictReader(csvfile)\n",
    "\n",
    " # Initialize a list to store the comments\n",
    " comments = []\n",
    "\n",
    " # Iterate over each row in the CSV file\n",
    " for row in reader:\n",
    " # Extract the 'comments' column value and add it to the list\n",
    "  comments.append(row['comments'])\n",
    "# Open the output text file for writing\n",
    "with open(output_file, 'w') as txtfile:\n",
    " # Write each comment to the text file\n",
    " for comment in comments:\n",
    "  txtfile.write(comment + '\\n')\n",
    "print(\"Comments extracted and saved to\", output_file)"
   ]
  },
  {
   "cell_type": "code",
   "execution_count": 16,
   "id": "287c169c-4afb-4815-9dd3-f0a00848d55d",
   "metadata": {},
   "outputs": [
    {
     "name": "stdout",
     "output_type": "stream",
     "text": [
      "Comments extracted and saved to comments.txt\n"
     ]
    }
   ],
   "source": [
    "import pandas as pd\n",
    "# Define the Excel file name\n",
    "excel_file = 'sample_data.xlsx'\n",
    "# Define the output text file name\n",
    "output_file = 'comments.txt'\n",
    "# Read the Excel file\n",
    "df = pd.read_excel(excel_file)\n",
    "# Extract the 'comments' column\n",
    "comments = df['comments']\n",
    "# Open the output text file for writing\n",
    "with open(output_file, 'w') as txtfile:\n",
    " # Write each comment to the text file\n",
    " for comment in comments:\n",
    "  txtfile.write(str(comment) + '\\n')\n",
    "print(\"Comments extracted and saved to\", output_file)"
   ]
  },
  {
   "cell_type": "code",
   "execution_count": 18,
   "id": "5792e8be-ef87-4e23-9874-4fa6b64e38c9",
   "metadata": {},
   "outputs": [],
   "source": [
    "import PyPDF2"
   ]
  },
  {
   "cell_type": "code",
   "execution_count": 19,
   "id": "7e79fce0-3797-45b1-beec-175726a30334",
   "metadata": {},
   "outputs": [],
   "source": [
    "f = open('US_Declaration.pdf','rb')"
   ]
  },
  {
   "cell_type": "code",
   "execution_count": 20,
   "id": "b969cfa3-dfc0-4690-8026-319290506853",
   "metadata": {},
   "outputs": [],
   "source": [
    "pdf_reader = PyPDF2.PdfReader(f)"
   ]
  },
  {
   "cell_type": "code",
   "execution_count": 21,
   "id": "7f35a903-f2ab-4709-a715-4e6def905c49",
   "metadata": {},
   "outputs": [
    {
     "data": {
      "text/plain": [
       "5"
      ]
     },
     "execution_count": 21,
     "metadata": {},
     "output_type": "execute_result"
    }
   ],
   "source": [
    "len(pdf_reader.pages)"
   ]
  },
  {
   "cell_type": "code",
   "execution_count": 24,
   "id": "f30bf66a-a022-415b-837e-c39e3aa22bf1",
   "metadata": {},
   "outputs": [],
   "source": [
    "page_one = pdf_reader.pages[0]\n"
   ]
  },
  {
   "cell_type": "code",
   "execution_count": 25,
   "id": "f7ed2d91-98c7-4f84-ba07-aff82d30e710",
   "metadata": {},
   "outputs": [],
   "source": [
    "page_one_text = page_one.extract_text()"
   ]
  },
  {
   "cell_type": "code",
   "execution_count": 26,
   "id": "a2327738-f1fb-4895-af2c-c054329c7556",
   "metadata": {},
   "outputs": [
    {
     "data": {
      "text/plain": [
       "\"Declaration of Independence\\nIN CONGRESS, July 4, 1776.  \\nThe unanimous Declaration of the thirteen united States of America,  \\nWhen in the Course of human events, it becomes necessary for one people to dissolve thepolitical bands which have connected them with another, and to assume among the powers of theearth, the separate and equal station to which the Laws of Nature and of Nature's God entitlethem, a decent respect to the opinions of mankind requires that they should declare the causeswhich impel them to the separation. We hold these truths to be self-evident, that all men are created equal, that they are endowed bytheir Creator with certain unalienable Rights, that among these are Life, Liberty and the pursuit\\nof Happiness.— \\x14That to secure these rights, Governments are instituted among Men, derivingtheir just powers from the consent of the governed,—  \\x14That whenever any Form of Government\\nbecomes destructive of these ends, it is the Right of the People to alter or to abolish it, and to\\ninstitute new Government, laying its foundation on such principles and organizing its powers in\\nsuch form, as to them shall seem most likely to effect their Safety and Happiness. Prudence,indeed, will dictate that Governments long established should not be changed for light andtransient causes; and accordingly all experience hath shewn, that mankind are more disposed to\\nsuffer, while evils are sufferable, than to right themselves by abolishing the forms to which theyare accustomed. But when a long train of abuses and usurpations, pursuing invariably the same\\nObject evinces a design to reduce them under absolute Despotism, it is their right, it is their duty,\\nto throw off such Government, and to provide new Guards for their future securit y.— \\x14Such has\\nbeen the patient sufferance of these Colonies; and such is now the necessity which constrainsthem to alter their former Systems of Government. The history of the present King of GreatBritain is a history of repeated injuries and usurpations, all having in direct object the\\nestablishment of an absolute Tyranny over these States. To prove this, let Facts be submitted to a\\ncandid world. \\nHe has refused his Assent to Laws, the most wholesome and necessary for the\\npublic good.He has forbidden his Governors to pass Laws of immediate and pressingimportance, unless suspended in their operation till his Assent should be obtained;and when so suspended, he has utterly neglected to attend to them.He has refused to pass other Laws for the accommodation of large districts of\\npeople, unless those people would relinquish the right of Representation in theLegislature, a right inestimable to them and formidable to tyrants only. He has called together legislative bodies at places unusual, uncomfortable, and distantfrom the depository of their public Records, for the sole purpose of fatiguing them into\\ncompliance with his measures.\""
      ]
     },
     "execution_count": 26,
     "metadata": {},
     "output_type": "execute_result"
    }
   ],
   "source": [
    "page_one_text"
   ]
  },
  {
   "cell_type": "code",
   "execution_count": 28,
   "id": "403f31d0-6df3-4a6c-a199-49c1091a0e5b",
   "metadata": {},
   "outputs": [
    {
     "name": "stdout",
     "output_type": "stream",
     "text": [
      "Page 5:\n",
      "   George Clymer\n",
      "   James Smith\n",
      "   George Taylor\n",
      "   James Wilson\n",
      "   George Ross\n",
      " Delaware:\n",
      "   Caesar Rodney\n",
      "   George Read\n",
      "   Thomas McKean \n",
      "[Column 5] New York:\n",
      "   Wi lliam Floyd\n",
      "   Philip Livingston\n",
      "   Francis L ewis\n",
      "   Lewis Morris\n",
      " New Jersey:\n",
      "   Richard Stockton\n",
      "   John Witherspoon\n",
      "   Francis Hopkinson\n",
      "   John Hart\n",
      "   Abraham Clark \n",
      "[Column 6] New Hampshire:\n",
      "   Josiah Bartlett\n",
      "   William Whipple\n",
      " Massachusetts:\n",
      "   Samuel Adams\n",
      "   John Adams\n",
      "   Robert Treat Paine\n",
      "   Elbridge Gerry\n",
      " Rhode Island:\n",
      "   Stephen Hopkins\n",
      "   William Ellery\n",
      " Connecticut:\n",
      "   Roger Sherman\n",
      "   Samuel Huntington\n",
      "   William Williams\n",
      "   Oliver Wolcott\n",
      " New Hampshire:\n",
      " Matthew Thornton\n",
      " \n",
      "\n"
     ]
    }
   ],
   "source": [
    "# Open the PDF file in binary mode\n",
    "with open('US_Declaration.pdf', 'rb') as f:\n",
    " # Create a PDF reader object\n",
    " pdf_reader = PyPDF2.PdfReader(f)\n",
    " # Get the total number of pages\n",
    " total_pages = len(pdf_reader.pages)\n",
    " # Iterate over all pages and extract text\n",
    " for page_number in range(total_pages):\n",
    "  page = pdf_reader.pages[page_number]\n",
    " page_text = page.extract_text()\n",
    " # Print the extracted text for each page\n",
    " print(f\"Page {page_number + 1}:\\n{page_text}\\n\")"
   ]
  },
  {
   "cell_type": "markdown",
   "id": "6f9e869f-808a-4fcf-87fe-dd0296dcb95c",
   "metadata": {},
   "source": [
    "**Try It Yourself**"
   ]
  },
  {
   "cell_type": "code",
   "execution_count": 29,
   "id": "1e7c0201-dbf3-4991-85c0-f84c240c0e37",
   "metadata": {},
   "outputs": [],
   "source": [
    "#Use PyPDF2 to open the file Business_Proposal.pdf. Extract the text of page 2\n",
    "\n",
    "import PyPDF2\n"
   ]
  },
  {
   "cell_type": "code",
   "execution_count": 30,
   "id": "230e4533-0823-403e-9cdd-1ea8c128508e",
   "metadata": {},
   "outputs": [],
   "source": [
    "b = open('Business_Proposal.pdf','rb')\n"
   ]
  },
  {
   "cell_type": "code",
   "execution_count": 31,
   "id": "0725e37b-f9ea-46ae-9171-6a89874527ae",
   "metadata": {},
   "outputs": [],
   "source": [
    "pdf_reader = PyPDF2.PdfReader(b)"
   ]
  },
  {
   "cell_type": "code",
   "execution_count": 32,
   "id": "e2f371c8-2e3e-4ce6-9b58-951bfc5ce0d6",
   "metadata": {},
   "outputs": [
    {
     "data": {
      "text/plain": [
       "2"
      ]
     },
     "execution_count": 32,
     "metadata": {},
     "output_type": "execute_result"
    }
   ],
   "source": [
    "len(pdf_reader.pages)\n"
   ]
  },
  {
   "cell_type": "code",
   "execution_count": 33,
   "id": "39e81692-fb55-4df6-b0e9-7d8cbeb37b61",
   "metadata": {},
   "outputs": [],
   "source": [
    "page_two = pdf_reader.pages[1]\n"
   ]
  },
  {
   "cell_type": "code",
   "execution_count": 34,
   "id": "d81b34c7-7212-40cd-a2dd-5fd166531d60",
   "metadata": {},
   "outputs": [],
   "source": [
    "page_two_text = page_two.extract_text()"
   ]
  },
  {
   "cell_type": "code",
   "execution_count": 35,
   "id": "f6e0e40b-6c25-4461-becc-fd9794cd4ca8",
   "metadata": {},
   "outputs": [
    {
     "data": {
      "text/plain": [
       "'AUTHORS:  \\nAmy Baker, Finance Chair, x345, abaker@ourcompany.com  \\nChris Donaldson, Accounting Dir., x621, cdonaldson@ourcompany.com  \\nErin Freeman, Sr. VP, x879, efreeman@ourcompany.com  '"
      ]
     },
     "execution_count": 35,
     "metadata": {},
     "output_type": "execute_result"
    }
   ],
   "source": [
    "page_two_text"
   ]
  },
  {
   "cell_type": "code",
   "execution_count": null,
   "id": "225e4a31-2d83-44f3-a892-b8ce809a326c",
   "metadata": {},
   "outputs": [],
   "source": []
  }
 ],
 "metadata": {
  "kernelspec": {
   "display_name": "Python 3 (ipykernel)",
   "language": "python",
   "name": "python3"
  },
  "language_info": {
   "codemirror_mode": {
    "name": "ipython",
    "version": 3
   },
   "file_extension": ".py",
   "mimetype": "text/x-python",
   "name": "python",
   "nbconvert_exporter": "python",
   "pygments_lexer": "ipython3",
   "version": "3.9.13"
  }
 },
 "nbformat": 4,
 "nbformat_minor": 5
}
